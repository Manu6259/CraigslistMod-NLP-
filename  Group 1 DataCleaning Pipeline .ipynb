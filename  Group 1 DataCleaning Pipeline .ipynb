{
 "cells": [
  {
   "cell_type": "code",
   "execution_count": 50,
   "metadata": {},
   "outputs": [],
   "source": [
    "import pandas as pd \n",
    "import numpy as np \n",
    "import os\n",
    "import re"
   ]
  },
  {
   "cell_type": "code",
   "execution_count": 51,
   "metadata": {},
   "outputs": [],
   "source": [
    "csv_files = ['divorce.csv', 'jokes.csv', 'politics.csv']"
   ]
  },
  {
   "cell_type": "code",
   "execution_count": 52,
   "metadata": {},
   "outputs": [],
   "source": [
    "def clean_content(text, author):\n",
    "    # 1. Remove boilerplate prefix\n",
    "    text = re.sub(r'^reply to this post rate flag\\s*', '', text, flags=re.IGNORECASE)\n",
    "    # 2. Remove author tag based on author value\n",
    "    #    e.g., if author == \"FYI-ItsMe\", this removes \"< FYI-ItsMe >\"\n",
    "    pattern = rf'<\\s*{re.escape(author)}\\s*>'\n",
    "    text = re.sub(pattern, '', text)\n",
    "    # 3. Remove URLs\n",
    "    text = re.sub(r'https?://\\S+', '', text)\n",
    "    # 4. Remove full date-time patterns (e.g., 2025-04-28 17:08)\n",
    "    text = re.sub(r'\\d{4}-\\d{2}-\\d{2}\\s*\\d{1,2}:\\d{2}', '', text)\n",
    "    # 5. Remove standalone time patterns (e.g., 17:08)\n",
    "    text = re.sub(r'\\b\\d{1,2}:\\d{2}\\b', '', text)\n",
    "    return text.strip()"
   ]
  },
  {
   "cell_type": "code",
   "execution_count": 53,
   "metadata": {},
   "outputs": [],
   "source": [
    "def combine_cleaned_files(csv_files):\n",
    "    \"\"\"Combine all cleaned CSV files into one DataFrame\"\"\"\n",
    "    all_data = []\n",
    "    \n",
    "    for csv_file in csv_files:\n",
    "        cleaned_file = f'cleaned_{csv_file}'\n",
    "        print(f\"Reading {cleaned_file}...\")\n",
    "        df = pd.read_csv(cleaned_file)\n",
    "        all_data.append(df)\n",
    "    \n",
    "    # Combine all DataFrames\n",
    "    combined_df = pd.concat(all_data, ignore_index=True)\n",
    "    \n",
    "    # Save the combined data\n",
    "    combined_df.to_csv('clean1.csv', index=False)\n",
    "    print(\"\\nCombined all cleaned data into 'clean1.csv'\")\n",
    "    print(f\"Total number of rows: {len(combined_df)}\")\n",
    "    print(f\"Columns: {', '.join(combined_df.columns)}\")\n",
    "    \n",
    "    return combined_df"
   ]
  },
  {
   "cell_type": "code",
   "execution_count": 54,
   "metadata": {},
   "outputs": [
    {
     "name": "stdout",
     "output_type": "stream",
     "text": [
      "Processing divorce.csv...\n",
      "Saved cleaned data to cleaned_divorce.csv\n",
      "\n",
      "First few rows of cleaned content from divorce.csv:\n",
      "0    Divorce documentary seeks Christians   Divorce...\n",
      "1    New child support question:   Got my filing. S...\n",
      "2          The Judge will have a lot to consider. GL §\n",
      "3    That's pretty much noise   He will claim X, Y,...\n",
      "4    Support   Judges normally don't care about the...\n",
      "Name: content_clean, dtype: object\n",
      "--------------------------------------------------\n",
      "Processing jokes.csv...\n",
      "Saved cleaned data to cleaned_jokes.csv\n",
      "\n",
      "First few rows of cleaned content from jokes.csv:\n",
      "0    A guy goes to...   ...church to confess. \"Forg...\n",
      "1    Clever Words For Clever People   1. ARBITRAITO...\n",
      "2    My friend and I were both born on 4/20.   We'r...\n",
      "3    A old Soviet Jewish man applies for an exit vi...\n",
      "4    Go on my son   A man went to church to confess...\n",
      "Name: content_clean, dtype: object\n",
      "--------------------------------------------------\n",
      "Processing politics.csv...\n",
      "Saved cleaned data to cleaned_politics.csv\n",
      "\n",
      "First few rows of cleaned content from politics.csv:\n",
      "0    Finally another brave Democrat.   Democrat Jon...\n",
      "1                              please be less stupid §\n",
      "2                                      ^just woak up §\n",
      "3    US Navy loses $60 million jet as it fell over ...\n",
      "4                   DOD running a tight russian ship §\n",
      "Name: content_clean, dtype: object\n",
      "--------------------------------------------------\n"
     ]
    }
   ],
   "source": [
    "for csv_file in csv_files:\n",
    "    print(f\"Processing {csv_file}...\")\n",
    "    \n",
    "    # Read the CSV file\n",
    "    df = pd.read_csv(csv_file)\n",
    "    \n",
    "    # Clean the content\n",
    "    df['content_clean'] = df.apply(lambda row: clean_content(row['content'], row['author']), axis=1)\n",
    "    \n",
    "    # Save the cleaned data to a new CSV file\n",
    "    output_file = f'cleaned_{csv_file}'\n",
    "    df.to_csv(output_file, index=False)\n",
    "    print(f\"Saved cleaned data to {output_file}\")\n",
    "    \n",
    "    # Print the first few rows of cleaned content\n",
    "    print(f\"\\nFirst few rows of cleaned content from {csv_file}:\")\n",
    "    print(df['content_clean'].head())\n",
    "    print(\"-\" * 50)\n"
   ]
  },
  {
   "cell_type": "code",
   "execution_count": 55,
   "metadata": {},
   "outputs": [
    {
     "name": "stdout",
     "output_type": "stream",
     "text": [
      "\n",
      "Combining all cleaned files...\n",
      "Reading cleaned_divorce.csv...\n",
      "Reading cleaned_jokes.csv...\n",
      "Reading cleaned_politics.csv...\n",
      "\n",
      "Combined all cleaned data into 'clean1.csv'\n",
      "Total number of rows: 1951\n",
      "Columns: Category, thread_id, post_id, title, author, time, content, nesting_level, is_first_post, page_num, url, content_clean\n"
     ]
    }
   ],
   "source": [
    "print(\"\\nCombining all cleaned files...\")\n",
    "combined_data = combine_cleaned_files(csv_files) "
   ]
  },
  {
   "cell_type": "markdown",
   "metadata": {},
   "source": [
    "# Cleaning Part 2 "
   ]
  },
  {
   "cell_type": "code",
   "execution_count": 56,
   "metadata": {},
   "outputs": [
    {
     "name": "stderr",
     "output_type": "stream",
     "text": [
      "[nltk_data] Downloading package wordnet to /Users/mj/nltk_data...\n",
      "[nltk_data]   Package wordnet is already up-to-date!\n",
      "[nltk_data] Downloading package omw-1.4 to /Users/mj/nltk_data...\n",
      "[nltk_data]   Package omw-1.4 is already up-to-date!\n",
      "[nltk_data] Downloading package stopwords to /Users/mj/nltk_data...\n",
      "[nltk_data]   Package stopwords is already up-to-date!\n",
      "[nltk_data] Downloading package punkt to /Users/mj/nltk_data...\n",
      "[nltk_data]   Package punkt is already up-to-date!\n"
     ]
    }
   ],
   "source": [
    "import nltk\n",
    "nltk.download('wordnet')\n",
    "nltk.download('omw-1.4')\n",
    "nltk.download('stopwords')\n",
    "nltk.download('punkt')\n",
    "from nltk.corpus import stopwords\n",
    "from nltk.stem import WordNetLemmatizer\n",
    "# from flair.models import TextClassifier\n",
    "import re"
   ]
  },
  {
   "cell_type": "code",
   "execution_count": 57,
   "metadata": {},
   "outputs": [],
   "source": [
    "df = pd.read_csv('clean1.csv')"
   ]
  },
  {
   "cell_type": "code",
   "execution_count": 58,
   "metadata": {},
   "outputs": [],
   "source": [
    "cleaned_df = df[['Category', 'thread_id', 'post_id', 'title', 'author', 'time', 'content_clean']]"
   ]
  },
  {
   "cell_type": "code",
   "execution_count": 59,
   "metadata": {},
   "outputs": [],
   "source": [
    "cleaned_df.to_csv('clean2.csv', index=False)"
   ]
  },
  {
   "cell_type": "markdown",
   "metadata": {},
   "source": [
    "# Cleaning Part 3"
   ]
  },
  {
   "cell_type": "code",
   "execution_count": 60,
   "metadata": {},
   "outputs": [
    {
     "data": {
      "text/html": [
       "<div>\n",
       "<style scoped>\n",
       "    .dataframe tbody tr th:only-of-type {\n",
       "        vertical-align: middle;\n",
       "    }\n",
       "\n",
       "    .dataframe tbody tr th {\n",
       "        vertical-align: top;\n",
       "    }\n",
       "\n",
       "    .dataframe thead th {\n",
       "        text-align: right;\n",
       "    }\n",
       "</style>\n",
       "<table border=\"1\" class=\"dataframe\">\n",
       "  <thead>\n",
       "    <tr style=\"text-align: right;\">\n",
       "      <th></th>\n",
       "      <th>Category</th>\n",
       "      <th>thread_id</th>\n",
       "      <th>post_id</th>\n",
       "      <th>title</th>\n",
       "      <th>author</th>\n",
       "      <th>time</th>\n",
       "      <th>content_clean</th>\n",
       "    </tr>\n",
       "  </thead>\n",
       "  <tbody>\n",
       "    <tr>\n",
       "      <th>0</th>\n",
       "      <td>divorce</td>\n",
       "      <td>1</td>\n",
       "      <td>1</td>\n",
       "      <td>Divorce documentary seeks Christians</td>\n",
       "      <td>AttackOnMarriage</td>\n",
       "      <td>2025/4/11 11:16</td>\n",
       "      <td>Divorce documentary seeks Christians   Divorce...</td>\n",
       "    </tr>\n",
       "    <tr>\n",
       "      <th>1</th>\n",
       "      <td>divorce</td>\n",
       "      <td>2</td>\n",
       "      <td>2</td>\n",
       "      <td>New child support question:</td>\n",
       "      <td>SignHere2208</td>\n",
       "      <td>2025/3/16 10:27</td>\n",
       "      <td>New child support question:   Got my filing. S...</td>\n",
       "    </tr>\n",
       "    <tr>\n",
       "      <th>2</th>\n",
       "      <td>divorce</td>\n",
       "      <td>2</td>\n",
       "      <td>3</td>\n",
       "      <td>The Judge will have a lot to consider. GL §</td>\n",
       "      <td>HereAgainOC</td>\n",
       "      <td>2025/3/17 17:16</td>\n",
       "      <td>The Judge will have a lot to consider. GL §</td>\n",
       "    </tr>\n",
       "    <tr>\n",
       "      <th>3</th>\n",
       "      <td>divorce</td>\n",
       "      <td>2</td>\n",
       "      <td>4</td>\n",
       "      <td>That's pretty much noise</td>\n",
       "      <td>nobodyatdevnull</td>\n",
       "      <td>2025/3/18 23:53</td>\n",
       "      <td>That's pretty much noise   He will claim X, Y,...</td>\n",
       "    </tr>\n",
       "    <tr>\n",
       "      <th>4</th>\n",
       "      <td>divorce</td>\n",
       "      <td>2</td>\n",
       "      <td>5</td>\n",
       "      <td>Support</td>\n",
       "      <td>heavy-handed</td>\n",
       "      <td>16:04</td>\n",
       "      <td>Support   Judges normally don't care about the...</td>\n",
       "    </tr>\n",
       "  </tbody>\n",
       "</table>\n",
       "</div>"
      ],
      "text/plain": [
       "  Category  thread_id  post_id                                        title  \\\n",
       "0  divorce          1        1         Divorce documentary seeks Christians   \n",
       "1  divorce          2        2                  New child support question:   \n",
       "2  divorce          2        3  The Judge will have a lot to consider. GL §   \n",
       "3  divorce          2        4                     That's pretty much noise   \n",
       "4  divorce          2        5                                      Support   \n",
       "\n",
       "             author             time  \\\n",
       "0  AttackOnMarriage  2025/4/11 11:16   \n",
       "1      SignHere2208  2025/3/16 10:27   \n",
       "2       HereAgainOC  2025/3/17 17:16   \n",
       "3   nobodyatdevnull  2025/3/18 23:53   \n",
       "4      heavy-handed            16:04   \n",
       "\n",
       "                                       content_clean  \n",
       "0  Divorce documentary seeks Christians   Divorce...  \n",
       "1  New child support question:   Got my filing. S...  \n",
       "2        The Judge will have a lot to consider. GL §  \n",
       "3  That's pretty much noise   He will claim X, Y,...  \n",
       "4  Support   Judges normally don't care about the...  "
      ]
     },
     "execution_count": 60,
     "metadata": {},
     "output_type": "execute_result"
    }
   ],
   "source": [
    "df = pd.read_csv('clean2.csv')\n",
    "df.head()"
   ]
  },
  {
   "cell_type": "code",
   "execution_count": 61,
   "metadata": {},
   "outputs": [
    {
     "data": {
      "text/html": [
       "<div>\n",
       "<style scoped>\n",
       "    .dataframe tbody tr th:only-of-type {\n",
       "        vertical-align: middle;\n",
       "    }\n",
       "\n",
       "    .dataframe tbody tr th {\n",
       "        vertical-align: top;\n",
       "    }\n",
       "\n",
       "    .dataframe thead th {\n",
       "        text-align: right;\n",
       "    }\n",
       "</style>\n",
       "<table border=\"1\" class=\"dataframe\">\n",
       "  <thead>\n",
       "    <tr style=\"text-align: right;\">\n",
       "      <th></th>\n",
       "      <th>category</th>\n",
       "      <th>thread_id</th>\n",
       "      <th>post_id</th>\n",
       "      <th>title</th>\n",
       "      <th>author</th>\n",
       "      <th>time</th>\n",
       "      <th>content_clean</th>\n",
       "    </tr>\n",
       "  </thead>\n",
       "  <tbody>\n",
       "    <tr>\n",
       "      <th>0</th>\n",
       "      <td>divorce</td>\n",
       "      <td>1</td>\n",
       "      <td>1</td>\n",
       "      <td>Divorce documentary seeks Christians</td>\n",
       "      <td>AttackOnMarriage</td>\n",
       "      <td>2025/4/11 11:16</td>\n",
       "      <td>Divorce documentary seeks Christians   Divorce...</td>\n",
       "    </tr>\n",
       "    <tr>\n",
       "      <th>1</th>\n",
       "      <td>divorce</td>\n",
       "      <td>2</td>\n",
       "      <td>2</td>\n",
       "      <td>New child support question:</td>\n",
       "      <td>SignHere2208</td>\n",
       "      <td>2025/3/16 10:27</td>\n",
       "      <td>New child support question:   Got my filing. S...</td>\n",
       "    </tr>\n",
       "    <tr>\n",
       "      <th>2</th>\n",
       "      <td>divorce</td>\n",
       "      <td>2</td>\n",
       "      <td>3</td>\n",
       "      <td>The Judge will have a lot to consider. GL §</td>\n",
       "      <td>HereAgainOC</td>\n",
       "      <td>2025/3/17 17:16</td>\n",
       "      <td>The Judge will have a lot to consider. GL §</td>\n",
       "    </tr>\n",
       "    <tr>\n",
       "      <th>3</th>\n",
       "      <td>divorce</td>\n",
       "      <td>2</td>\n",
       "      <td>4</td>\n",
       "      <td>That's pretty much noise</td>\n",
       "      <td>nobodyatdevnull</td>\n",
       "      <td>2025/3/18 23:53</td>\n",
       "      <td>That's pretty much noise   He will claim X, Y,...</td>\n",
       "    </tr>\n",
       "    <tr>\n",
       "      <th>4</th>\n",
       "      <td>divorce</td>\n",
       "      <td>2</td>\n",
       "      <td>5</td>\n",
       "      <td>Support</td>\n",
       "      <td>heavy-handed</td>\n",
       "      <td>16:04</td>\n",
       "      <td>Support   Judges normally don't care about the...</td>\n",
       "    </tr>\n",
       "  </tbody>\n",
       "</table>\n",
       "</div>"
      ],
      "text/plain": [
       "  category  thread_id  post_id                                        title  \\\n",
       "0  divorce          1        1         Divorce documentary seeks Christians   \n",
       "1  divorce          2        2                  New child support question:   \n",
       "2  divorce          2        3  The Judge will have a lot to consider. GL §   \n",
       "3  divorce          2        4                     That's pretty much noise   \n",
       "4  divorce          2        5                                      Support   \n",
       "\n",
       "             author             time  \\\n",
       "0  AttackOnMarriage  2025/4/11 11:16   \n",
       "1      SignHere2208  2025/3/16 10:27   \n",
       "2       HereAgainOC  2025/3/17 17:16   \n",
       "3   nobodyatdevnull  2025/3/18 23:53   \n",
       "4      heavy-handed            16:04   \n",
       "\n",
       "                                       content_clean  \n",
       "0  Divorce documentary seeks Christians   Divorce...  \n",
       "1  New child support question:   Got my filing. S...  \n",
       "2        The Judge will have a lot to consider. GL §  \n",
       "3  That's pretty much noise   He will claim X, Y,...  \n",
       "4  Support   Judges normally don't care about the...  "
      ]
     },
     "execution_count": 61,
     "metadata": {},
     "output_type": "execute_result"
    }
   ],
   "source": [
    "df = df.rename(columns={'Category': 'category'})\n",
    "df.head()\n"
   ]
  },
  {
   "cell_type": "code",
   "execution_count": 62,
   "metadata": {},
   "outputs": [
    {
     "data": {
      "text/plain": [
       "array(['divorce', 'Jokes', 'Politics'], dtype=object)"
      ]
     },
     "execution_count": 62,
     "metadata": {},
     "output_type": "execute_result"
    }
   ],
   "source": [
    "df['category'].unique()"
   ]
  },
  {
   "cell_type": "markdown",
   "metadata": {},
   "source": [
    "# Dropping Unrelated columns"
   ]
  },
  {
   "cell_type": "code",
   "execution_count": 63,
   "metadata": {},
   "outputs": [
    {
     "data": {
      "text/html": [
       "<div>\n",
       "<style scoped>\n",
       "    .dataframe tbody tr th:only-of-type {\n",
       "        vertical-align: middle;\n",
       "    }\n",
       "\n",
       "    .dataframe tbody tr th {\n",
       "        vertical-align: top;\n",
       "    }\n",
       "\n",
       "    .dataframe thead th {\n",
       "        text-align: right;\n",
       "    }\n",
       "</style>\n",
       "<table border=\"1\" class=\"dataframe\">\n",
       "  <thead>\n",
       "    <tr style=\"text-align: right;\">\n",
       "      <th></th>\n",
       "      <th>category</th>\n",
       "      <th>title</th>\n",
       "      <th>content_clean</th>\n",
       "    </tr>\n",
       "  </thead>\n",
       "  <tbody>\n",
       "    <tr>\n",
       "      <th>0</th>\n",
       "      <td>divorce</td>\n",
       "      <td>Divorce documentary seeks Christians</td>\n",
       "      <td>Divorce documentary seeks Christians   Divorce...</td>\n",
       "    </tr>\n",
       "    <tr>\n",
       "      <th>1</th>\n",
       "      <td>divorce</td>\n",
       "      <td>New child support question:</td>\n",
       "      <td>New child support question:   Got my filing. S...</td>\n",
       "    </tr>\n",
       "    <tr>\n",
       "      <th>2</th>\n",
       "      <td>divorce</td>\n",
       "      <td>The Judge will have a lot to consider. GL §</td>\n",
       "      <td>The Judge will have a lot to consider. GL §</td>\n",
       "    </tr>\n",
       "    <tr>\n",
       "      <th>3</th>\n",
       "      <td>divorce</td>\n",
       "      <td>That's pretty much noise</td>\n",
       "      <td>That's pretty much noise   He will claim X, Y,...</td>\n",
       "    </tr>\n",
       "    <tr>\n",
       "      <th>4</th>\n",
       "      <td>divorce</td>\n",
       "      <td>Support</td>\n",
       "      <td>Support   Judges normally don't care about the...</td>\n",
       "    </tr>\n",
       "  </tbody>\n",
       "</table>\n",
       "</div>"
      ],
      "text/plain": [
       "  category                                        title  \\\n",
       "0  divorce         Divorce documentary seeks Christians   \n",
       "1  divorce                  New child support question:   \n",
       "2  divorce  The Judge will have a lot to consider. GL §   \n",
       "3  divorce                     That's pretty much noise   \n",
       "4  divorce                                      Support   \n",
       "\n",
       "                                       content_clean  \n",
       "0  Divorce documentary seeks Christians   Divorce...  \n",
       "1  New child support question:   Got my filing. S...  \n",
       "2        The Judge will have a lot to consider. GL §  \n",
       "3  That's pretty much noise   He will claim X, Y,...  \n",
       "4  Support   Judges normally don't care about the...  "
      ]
     },
     "execution_count": 63,
     "metadata": {},
     "output_type": "execute_result"
    }
   ],
   "source": [
    "df = df.drop(columns=['thread_id', 'post_id', 'time', 'author'])\n",
    "df.head()\n",
    "\n"
   ]
  },
  {
   "cell_type": "code",
   "execution_count": 64,
   "metadata": {},
   "outputs": [],
   "source": [
    "df.to_csv('clean3.csv', index=False)"
   ]
  },
  {
   "cell_type": "markdown",
   "metadata": {},
   "source": [
    "# Copying to new DF"
   ]
  },
  {
   "cell_type": "code",
   "execution_count": 65,
   "metadata": {},
   "outputs": [
    {
     "data": {
      "text/html": [
       "<div>\n",
       "<style scoped>\n",
       "    .dataframe tbody tr th:only-of-type {\n",
       "        vertical-align: middle;\n",
       "    }\n",
       "\n",
       "    .dataframe tbody tr th {\n",
       "        vertical-align: top;\n",
       "    }\n",
       "\n",
       "    .dataframe thead th {\n",
       "        text-align: right;\n",
       "    }\n",
       "</style>\n",
       "<table border=\"1\" class=\"dataframe\">\n",
       "  <thead>\n",
       "    <tr style=\"text-align: right;\">\n",
       "      <th></th>\n",
       "      <th>category</th>\n",
       "      <th>title</th>\n",
       "      <th>content_clean</th>\n",
       "    </tr>\n",
       "  </thead>\n",
       "  <tbody>\n",
       "    <tr>\n",
       "      <th>0</th>\n",
       "      <td>divorce</td>\n",
       "      <td>Divorce documentary seeks Christians</td>\n",
       "      <td>Divorce documentary seeks Christians   Divorce...</td>\n",
       "    </tr>\n",
       "    <tr>\n",
       "      <th>1</th>\n",
       "      <td>divorce</td>\n",
       "      <td>New child support question:</td>\n",
       "      <td>New child support question:   Got my filing. S...</td>\n",
       "    </tr>\n",
       "    <tr>\n",
       "      <th>2</th>\n",
       "      <td>divorce</td>\n",
       "      <td>The Judge will have a lot to consider. GL §</td>\n",
       "      <td>The Judge will have a lot to consider. GL §</td>\n",
       "    </tr>\n",
       "    <tr>\n",
       "      <th>3</th>\n",
       "      <td>divorce</td>\n",
       "      <td>That's pretty much noise</td>\n",
       "      <td>That's pretty much noise   He will claim X, Y,...</td>\n",
       "    </tr>\n",
       "    <tr>\n",
       "      <th>4</th>\n",
       "      <td>divorce</td>\n",
       "      <td>Support</td>\n",
       "      <td>Support   Judges normally don't care about the...</td>\n",
       "    </tr>\n",
       "  </tbody>\n",
       "</table>\n",
       "</div>"
      ],
      "text/plain": [
       "  category                                        title  \\\n",
       "0  divorce         Divorce documentary seeks Christians   \n",
       "1  divorce                  New child support question:   \n",
       "2  divorce  The Judge will have a lot to consider. GL §   \n",
       "3  divorce                     That's pretty much noise   \n",
       "4  divorce                                      Support   \n",
       "\n",
       "                                       content_clean  \n",
       "0  Divorce documentary seeks Christians   Divorce...  \n",
       "1  New child support question:   Got my filing. S...  \n",
       "2        The Judge will have a lot to consider. GL §  \n",
       "3  That's pretty much noise   He will claim X, Y,...  \n",
       "4  Support   Judges normally don't care about the...  "
      ]
     },
     "execution_count": 65,
     "metadata": {},
     "output_type": "execute_result"
    }
   ],
   "source": [
    "new_df = df.copy()\n",
    "new_df.head()"
   ]
  },
  {
   "cell_type": "markdown",
   "metadata": {},
   "source": [
    "# Normalize Whitespace & Casing"
   ]
  },
  {
   "cell_type": "code",
   "execution_count": 66,
   "metadata": {},
   "outputs": [
    {
     "data": {
      "text/html": [
       "<div>\n",
       "<style scoped>\n",
       "    .dataframe tbody tr th:only-of-type {\n",
       "        vertical-align: middle;\n",
       "    }\n",
       "\n",
       "    .dataframe tbody tr th {\n",
       "        vertical-align: top;\n",
       "    }\n",
       "\n",
       "    .dataframe thead th {\n",
       "        text-align: right;\n",
       "    }\n",
       "</style>\n",
       "<table border=\"1\" class=\"dataframe\">\n",
       "  <thead>\n",
       "    <tr style=\"text-align: right;\">\n",
       "      <th></th>\n",
       "      <th>category</th>\n",
       "      <th>title</th>\n",
       "      <th>content_clean</th>\n",
       "    </tr>\n",
       "  </thead>\n",
       "  <tbody>\n",
       "    <tr>\n",
       "      <th>0</th>\n",
       "      <td>divorce</td>\n",
       "      <td>Divorce documentary seeks Christians</td>\n",
       "      <td>divorce documentary seeks christians divorce d...</td>\n",
       "    </tr>\n",
       "    <tr>\n",
       "      <th>1</th>\n",
       "      <td>divorce</td>\n",
       "      <td>New child support question:</td>\n",
       "      <td>new child support question: got my filing. stb...</td>\n",
       "    </tr>\n",
       "    <tr>\n",
       "      <th>2</th>\n",
       "      <td>divorce</td>\n",
       "      <td>The Judge will have a lot to consider. GL §</td>\n",
       "      <td>the judge will have a lot to consider. gl §</td>\n",
       "    </tr>\n",
       "    <tr>\n",
       "      <th>3</th>\n",
       "      <td>divorce</td>\n",
       "      <td>That's pretty much noise</td>\n",
       "      <td>that's pretty much noise he will claim x, y, a...</td>\n",
       "    </tr>\n",
       "    <tr>\n",
       "      <th>4</th>\n",
       "      <td>divorce</td>\n",
       "      <td>Support</td>\n",
       "      <td>support judges normally don't care about the s...</td>\n",
       "    </tr>\n",
       "  </tbody>\n",
       "</table>\n",
       "</div>"
      ],
      "text/plain": [
       "  category                                        title  \\\n",
       "0  divorce         Divorce documentary seeks Christians   \n",
       "1  divorce                  New child support question:   \n",
       "2  divorce  The Judge will have a lot to consider. GL §   \n",
       "3  divorce                     That's pretty much noise   \n",
       "4  divorce                                      Support   \n",
       "\n",
       "                                       content_clean  \n",
       "0  divorce documentary seeks christians divorce d...  \n",
       "1  new child support question: got my filing. stb...  \n",
       "2        the judge will have a lot to consider. gl §  \n",
       "3  that's pretty much noise he will claim x, y, a...  \n",
       "4  support judges normally don't care about the s...  "
      ]
     },
     "execution_count": 66,
     "metadata": {},
     "output_type": "execute_result"
    }
   ],
   "source": [
    "new_df['content_clean'] = (new_df['content_clean']\n",
    "    .str.replace(r'\\s+', ' ', regex=True)\n",
    "    .str.strip()\n",
    "    .str.lower()\n",
    ")\n",
    "new_df.head()"
   ]
  },
  {
   "cell_type": "code",
   "execution_count": 67,
   "metadata": {},
   "outputs": [
    {
     "data": {
      "text/html": [
       "<div>\n",
       "<style scoped>\n",
       "    .dataframe tbody tr th:only-of-type {\n",
       "        vertical-align: middle;\n",
       "    }\n",
       "\n",
       "    .dataframe tbody tr th {\n",
       "        vertical-align: top;\n",
       "    }\n",
       "\n",
       "    .dataframe thead th {\n",
       "        text-align: right;\n",
       "    }\n",
       "</style>\n",
       "<table border=\"1\" class=\"dataframe\">\n",
       "  <thead>\n",
       "    <tr style=\"text-align: right;\">\n",
       "      <th></th>\n",
       "      <th>category</th>\n",
       "      <th>content_clean</th>\n",
       "    </tr>\n",
       "  </thead>\n",
       "  <tbody>\n",
       "    <tr>\n",
       "      <th>0</th>\n",
       "      <td>divorce</td>\n",
       "      <td>divorce documentary seeks christians divorce d...</td>\n",
       "    </tr>\n",
       "    <tr>\n",
       "      <th>1</th>\n",
       "      <td>divorce</td>\n",
       "      <td>new child support question: got my filing. stb...</td>\n",
       "    </tr>\n",
       "    <tr>\n",
       "      <th>2</th>\n",
       "      <td>divorce</td>\n",
       "      <td>the judge will have a lot to consider. gl §</td>\n",
       "    </tr>\n",
       "    <tr>\n",
       "      <th>3</th>\n",
       "      <td>divorce</td>\n",
       "      <td>that's pretty much noise he will claim x, y, a...</td>\n",
       "    </tr>\n",
       "    <tr>\n",
       "      <th>4</th>\n",
       "      <td>divorce</td>\n",
       "      <td>support judges normally don't care about the s...</td>\n",
       "    </tr>\n",
       "  </tbody>\n",
       "</table>\n",
       "</div>"
      ],
      "text/plain": [
       "  category                                      content_clean\n",
       "0  divorce  divorce documentary seeks christians divorce d...\n",
       "1  divorce  new child support question: got my filing. stb...\n",
       "2  divorce        the judge will have a lot to consider. gl §\n",
       "3  divorce  that's pretty much noise he will claim x, y, a...\n",
       "4  divorce  support judges normally don't care about the s..."
      ]
     },
     "execution_count": 67,
     "metadata": {},
     "output_type": "execute_result"
    }
   ],
   "source": [
    "new_df.drop(columns=['title'], inplace=True)\n",
    "new_df.head()"
   ]
  },
  {
   "cell_type": "code",
   "execution_count": 68,
   "metadata": {},
   "outputs": [
    {
     "data": {
      "text/html": [
       "<div>\n",
       "<style scoped>\n",
       "    .dataframe tbody tr th:only-of-type {\n",
       "        vertical-align: middle;\n",
       "    }\n",
       "\n",
       "    .dataframe tbody tr th {\n",
       "        vertical-align: top;\n",
       "    }\n",
       "\n",
       "    .dataframe thead th {\n",
       "        text-align: right;\n",
       "    }\n",
       "</style>\n",
       "<table border=\"1\" class=\"dataframe\">\n",
       "  <thead>\n",
       "    <tr style=\"text-align: right;\">\n",
       "      <th></th>\n",
       "      <th>category</th>\n",
       "      <th>content_clean</th>\n",
       "    </tr>\n",
       "  </thead>\n",
       "  <tbody>\n",
       "    <tr>\n",
       "      <th>0</th>\n",
       "      <td>divorce</td>\n",
       "      <td>divorce documentary seeks christians divorce d...</td>\n",
       "    </tr>\n",
       "    <tr>\n",
       "      <th>1</th>\n",
       "      <td>divorce</td>\n",
       "      <td>new child support question  got my filing  stb...</td>\n",
       "    </tr>\n",
       "    <tr>\n",
       "      <th>2</th>\n",
       "      <td>divorce</td>\n",
       "      <td>the judge will have a lot to consider  gl</td>\n",
       "    </tr>\n",
       "    <tr>\n",
       "      <th>3</th>\n",
       "      <td>divorce</td>\n",
       "      <td>that s pretty much noise he will claim x  y  a...</td>\n",
       "    </tr>\n",
       "    <tr>\n",
       "      <th>4</th>\n",
       "      <td>divorce</td>\n",
       "      <td>support judges normally don t care about the s...</td>\n",
       "    </tr>\n",
       "  </tbody>\n",
       "</table>\n",
       "</div>"
      ],
      "text/plain": [
       "  category                                      content_clean\n",
       "0  divorce  divorce documentary seeks christians divorce d...\n",
       "1  divorce  new child support question  got my filing  stb...\n",
       "2  divorce        the judge will have a lot to consider  gl  \n",
       "3  divorce  that s pretty much noise he will claim x  y  a...\n",
       "4  divorce  support judges normally don t care about the s..."
      ]
     },
     "execution_count": 68,
     "metadata": {},
     "output_type": "execute_result"
    }
   ],
   "source": [
    "new_df['content_clean'] = new_df['content_clean'].str.replace(r'[^\\w\\s]', ' ', regex=True)\n",
    "new_df.head()"
   ]
  },
  {
   "cell_type": "code",
   "execution_count": 77,
   "metadata": {},
   "outputs": [],
   "source": [
    "new_df.to_csv('clean4.csv', index=False)"
   ]
  },
  {
   "cell_type": "code",
   "execution_count": 78,
   "metadata": {},
   "outputs": [
    {
     "data": {
      "text/plain": [
       "3"
      ]
     },
     "execution_count": 78,
     "metadata": {},
     "output_type": "execute_result"
    }
   ],
   "source": [
    "df2 = new_df[new_df['category'].isin(['Jokes', 'divorce', 'Politics'])]\n",
    "df2['category'].nunique()"
   ]
  },
  {
   "cell_type": "code",
   "execution_count": 79,
   "metadata": {},
   "outputs": [],
   "source": [
    "df2.to_csv('jokes_divorce.csv', index=False)"
   ]
  }
 ],
 "metadata": {
  "kernelspec": {
   "display_name": "craig_tagging",
   "language": "python",
   "name": "python3"
  },
  "language_info": {
   "codemirror_mode": {
    "name": "ipython",
    "version": 3
   },
   "file_extension": ".py",
   "mimetype": "text/x-python",
   "name": "python",
   "nbconvert_exporter": "python",
   "pygments_lexer": "ipython3",
   "version": "3.9.18"
  }
 },
 "nbformat": 4,
 "nbformat_minor": 2
}
